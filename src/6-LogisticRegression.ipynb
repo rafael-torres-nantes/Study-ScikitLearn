{
 "cells": [
  {
   "cell_type": "markdown",
   "metadata": {},
   "source": [
    "# Logistic Regression\n",
    "\n",
    "A [Regressão Logística](https://scikit-learn.org/stable/modules/linear_model.html#logistic-regression) é um tipo de algoritmo de aprendizado de máquina que funciona como uma __máquina de adivinhação__ inteligente. Essa máquina aprende com exemplos para prever a probabilidade de um evento acontecer.\n",
    "\n",
    "<img src=\"../assets/6-reglogistica.png\"\n",
    "     alt=\"Regressão Logística\"\n",
    "     style=\"float: center; margin-right: 10px;\" />"
   ]
  },
  {
   "cell_type": "markdown",
   "metadata": {},
   "source": [
    "## Como funciona?\n",
    "\n",
    "A Regressão Logística utiliza um __modelo matemático em forma de \"S\"__ para analisar os dados e calcular a probabilidade de um evento.\n",
    "```\n",
    "p = 1 / (1 + e^-(ax + b))\n",
    "```\n",
    "\n",
    "Esse modelo é treinado com um conjunto de exemplos rotulados, o que permite que a máquina aprenda os padrões que indicam se o evento vai acontecer ou não.\n",
    "\n",
    "- __(y < 1):__ O _e^(-y)_ retorna um valor grande e  _1/(valor grande)_ torna-se pequeno;\n",
    "- __(1 < y)__ O _e^(-y)_ retorna um valor pequno e  _1/(valor pequno)_ torna-se grande;"
   ]
  }
 ],
 "metadata": {
  "language_info": {
   "name": "python"
  }
 },
 "nbformat": 4,
 "nbformat_minor": 2
}
