{
 "cells": [
  {
   "cell_type": "markdown",
   "metadata": {},
   "source": [
    "# Machine Learning Algorithms"
   ]
  },
  {
   "cell_type": "markdown",
   "metadata": {},
   "source": [
    "Machine Learning (Aprendizado de Máquina) é um campo da inteligência artificial que permite que os computadores aprendam com dados e melhorem seu desempenho ao longo do tempo, sem serem explicitamente programados."
   ]
  },
  {
   "cell_type": "markdown",
   "metadata": {},
   "source": [
    "## Classification\n",
    "\n",
    "Classificação é um tipo de problema de Machine Learning em que o objetivo é prever a classe a qual um novo dado pertence, com base em um conjunto de dados com exemplos rotulados.\n",
    "\n",
    "<img src=\"../assets/2-classification.png\"\n",
    "     alt=\"Features and Labels\"\n",
    "     style=\"float: center; margin-right: 10px;\" />\n",
    "\n",
    "2 features / 3 labels"
   ]
  },
  {
   "cell_type": "markdown",
   "metadata": {},
   "source": [
    "### Como funciona?\n",
    "__Treinamento:__ Os algoritmos de classificação são treinados usando um conjunto de dados rotulado, onde cada dado possui uma classe conhecida.\n",
    "\n",
    "__Aprendizado:__ O algoritmo aprende a identificar padrões nos dados e a usar esses padrões para prever a classe de novos dados.\n",
    "\n",
    "__Previsão:__ Quando um novo dado é apresentado ao algoritmo, ele usa o que aprendeu durante o treinamento para prever a classe do novo dado."
   ]
  },
  {
   "cell_type": "markdown",
   "metadata": {},
   "source": [
    "### Algoritmos de Classificação\n",
    "\n",
    "__KNN (K Vizinhos Mais Próximos):__ Este algoritmo classifica um novo dado com base na classe da maioria dos seus K vizinhos mais próximos no conjunto de dados de treinamento.\n",
    "\n",
    "__SVM (Máquina de Vetores de Suporte):__ Este algoritmo encontra um hiperplano que separa os dados em diferentes classes. Novos dados são classificados de acordo com o lado do hiperplano em que caem.\n",
    "\n",
    "__Árvores de Decisão:__ Este algoritmo constrói uma árvore de decisão que representa as regras para classificar os dados. Novos dados são classificados percorrendo a árvore de decisão."
   ]
  },
  {
   "cell_type": "markdown",
   "metadata": {},
   "source": [
    "## Train/Test Split"
   ]
  },
  {
   "cell_type": "code",
   "execution_count": null,
   "metadata": {},
   "outputs": [],
   "source": [
    "from sklearn import datasets\n",
    "import numpy as np"
   ]
  },
  {
   "cell_type": "code",
   "execution_count": null,
   "metadata": {},
   "outputs": [],
   "source": [
    "iris = datasets.load_iris()"
   ]
  },
  {
   "cell_type": "code",
   "execution_count": null,
   "metadata": {},
   "outputs": [],
   "source": [
    "# Separar os atributos e labels\n",
    "\n",
    "x = iris.data\n",
    "y = iris.target\n",
    "\n",
    "x, y"
   ]
  },
  {
   "cell_type": "code",
   "execution_count": null,
   "metadata": {},
   "outputs": [],
   "source": [
    "x.shape"
   ]
  },
  {
   "cell_type": "code",
   "execution_count": null,
   "metadata": {},
   "outputs": [],
   "source": [
    "y.shape"
   ]
  },
  {
   "cell_type": "markdown",
   "metadata": {},
   "source": [
    "### O que estamos separando?\n",
    "\n",
    "Precisa-se divir o modelo, para termos um grupo de dados para: \n",
    "- Ensinar o Modelo a classificar;\n",
    "- Testar o Modelo para testar o seu acerto; \n"
   ]
  },
  {
   "cell_type": "code",
   "execution_count": null,
   "metadata": {},
   "outputs": [],
   "source": [
    "from sklearn.model_selection import train_test_split"
   ]
  },
  {
   "cell_type": "code",
   "execution_count": null,
   "metadata": {},
   "outputs": [],
   "source": [
    "# Precisa estar em Ordem para funcionar\n",
    "# Test_Size = 20% do Dataset para teste\n",
    "x_train, x_test, y_train, y_test = train_test_split(x, y, test_size=0.2)"
   ]
  },
  {
   "cell_type": "code",
   "execution_count": null,
   "metadata": {},
   "outputs": [],
   "source": [
    "x_train.shape"
   ]
  },
  {
   "cell_type": "code",
   "execution_count": null,
   "metadata": {},
   "outputs": [],
   "source": [
    "x_test.shape"
   ]
  },
  {
   "cell_type": "code",
   "execution_count": null,
   "metadata": {},
   "outputs": [],
   "source": [
    "y_train.shape"
   ]
  },
  {
   "cell_type": "code",
   "execution_count": null,
   "metadata": {},
   "outputs": [],
   "source": [
    "y_test.shape"
   ]
  },
  {
   "cell_type": "markdown",
   "metadata": {},
   "source": [
    "#"
   ]
  }
 ],
 "metadata": {
  "kernelspec": {
   "display_name": ".venv",
   "language": "python",
   "name": "python3"
  },
  "language_info": {
   "codemirror_mode": {
    "name": "ipython",
    "version": 3
   },
   "file_extension": ".py",
   "mimetype": "text/x-python",
   "name": "python",
   "nbconvert_exporter": "python",
   "pygments_lexer": "ipython3",
   "version": "3.12.2"
  }
 },
 "nbformat": 4,
 "nbformat_minor": 2
}
