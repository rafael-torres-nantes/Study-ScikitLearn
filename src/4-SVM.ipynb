{
 "cells": [
  {
   "cell_type": "markdown",
   "metadata": {},
   "source": [
    "# Suport Vector Machine\n",
    "\n",
    "[SMV](https://scikit-learn.org/stable/modules/svm.html) significa \"Support Vector Machine\" (Máquina de Vetores de Suporte) e é um tipo de algoritmo de aprendizado de máquina usado para __classificação__ e __regressão__. Ele funciona mapeando os dados em um espaço de alta dimensionalidade e encontrando um hiperplano que separa as diferentes classes de dados da melhor maneira possível.\n",
    "\n",
    "- O SVM cria uma linha ou superfície (hiperplano) que divide os dados em dois grupos.\n",
    "- Os pontos mais próximos do hiperplano, chamados de \"vetores de suporte\", são os que mais influenciam a posição do hiperplano.\n",
    "- O objetivo do SVM é encontrar o hiperplano que maximiza a margem entre os dois grupos de dados.\n",
    "\n",
    "\n",
    "<img src=\"../assets/4-svc.png\"\n",
    "     alt=\"Features and Labels\"\n",
    "     style=\"float: center; margin-right: 10px;\" />\n",
    "     \n"
   ]
  },
  {
   "cell_type": "markdown",
   "metadata": {},
   "source": [
    "## Como funciona?\n",
    "\n",
    "__Mapeamento para um espaço de alta dimensionalidade:__ O SVM pode mapear os dados para um espaço de alta dimensionalidade, onde é mais fácil encontrar um hiperplano que separa os dados.\n",
    "\n",
    "__Encontrar o hiperplano:__ O SVM usa um algoritmo para encontrar o hiperplano que maximiza a margem entre os dois grupos de dados.\n",
    "\n",
    "__Classificação de novos dados:__ Novos dados podem ser classificados usando o hiperplano aprendido. Se um novo dado estiver mais próximo do hiperplano de uma classe do que da outra, ele será classificado nessa classe."
   ]
  },
  {
   "cell_type": "markdown",
   "metadata": {},
   "source": [
    "## Kernel\n",
    "No mundo do aprendizado de máquina, o termo kernel tem um significado diferente do utilizado para sistemas operacionais. Aqui, o kernel se refere à função kernel, usada em uma técnica chamada kernel trick (maneira do kernel).\n",
    "\n",
    "Imagine que você tem dados que não podem ser facilmente separados em categorias usando um algoritmo linear, como um classificador linear. O kernel trick entra em cena para resolver esse problema.\n",
    "\n",
    "Funciona assim:\n",
    "- __Transformação:__ A função kernel pega seus dados originais e os mapeia para um espaço de alta dimensão. Pense como se estivesse esticando os dados em um espaço maior.\n",
    "- __Separação em alta dimensão:__ Nesse espaço de alta dimensão, torna-se possível separar linearmente os seus dados. Isso porque o kernel pode ter criado novas dimensões que ajudam a destacar as diferenças entre as categorias.\n",
    "- __Volta para a dimensão original__: Embora o algoritmo funcione no espaço de alta dimensão, o kernel trick evita a necessidade de realmente fazer cálculos complexos lá. Ele mapeia os resultados de volta para a dimensão original para serem interpretados.\n",
    "\n",
    "Resumindo, o kernel é como uma ferramenta que transforma seus dados para torná-los separáveis por algoritmos lineares, mesmo que originalmente eles fossem não lineares. Isso é útil em tarefas de aprendizado de máquina como classificação e regressão."
   ]
  },
  {
   "cell_type": "code",
   "execution_count": null,
   "metadata": {},
   "outputs": [],
   "source": [
    "from sklearn import datasets\n",
    "from sklearn.model_selection import train_test_split\n",
    "import numpy as np"
   ]
  },
  {
   "cell_type": "code",
   "execution_count": null,
   "metadata": {},
   "outputs": [],
   "source": [
    "iris = datasets.load_iris()"
   ]
  },
  {
   "cell_type": "markdown",
   "metadata": {},
   "source": [
    "Split it in features and labels"
   ]
  },
  {
   "cell_type": "code",
   "execution_count": null,
   "metadata": {},
   "outputs": [],
   "source": [
    "x = iris.data\n",
    "y = iris.target"
   ]
  },
  {
   "cell_type": "code",
   "execution_count": null,
   "metadata": {},
   "outputs": [],
   "source": [
    "x.shape, y.shape"
   ]
  },
  {
   "cell_type": "markdown",
   "metadata": {},
   "source": [
    "Split it in Train set and Test set"
   ]
  },
  {
   "cell_type": "code",
   "execution_count": null,
   "metadata": {},
   "outputs": [],
   "source": [
    "x_train, x_test, y_train, y_test = train_test_split(x, y, test_size=0.2)"
   ]
  },
  {
   "cell_type": "markdown",
   "metadata": {},
   "source": [
    "Importing SVM Algorith"
   ]
  },
  {
   "cell_type": "code",
   "execution_count": null,
   "metadata": {},
   "outputs": [],
   "source": [
    "from sklearn import svm"
   ]
  },
  {
   "cell_type": "code",
   "execution_count": null,
   "metadata": {},
   "outputs": [],
   "source": [
    "classes = ['Iris Setosa', 'Iris Versicolour', 'Iris Virginica']"
   ]
  },
  {
   "cell_type": "markdown",
   "metadata": {},
   "source": [
    "Create model and train the model"
   ]
  },
  {
   "cell_type": "code",
   "execution_count": null,
   "metadata": {},
   "outputs": [],
   "source": [
    "model = svm.SVC()\n",
    "model.fit(x_train, y_train)"
   ]
  },
  {
   "cell_type": "code",
   "execution_count": null,
   "metadata": {},
   "outputs": [],
   "source": [
    "model"
   ]
  },
  {
   "cell_type": "code",
   "execution_count": null,
   "metadata": {},
   "outputs": [],
   "source": [
    "x_train.shape, x_test.shape, y_train.shape, y_test.shape, "
   ]
  },
  {
   "cell_type": "markdown",
   "metadata": {},
   "source": [
    "Determine the accuracy"
   ]
  },
  {
   "cell_type": "code",
   "execution_count": null,
   "metadata": {},
   "outputs": [],
   "source": [
    "from sklearn.metrics import accuracy_score"
   ]
  },
  {
   "cell_type": "code",
   "execution_count": null,
   "metadata": {},
   "outputs": [],
   "source": [
    "predictions = model.predict(x_test)\n",
    "accuracy = accuracy_score(y_test, predictions)\n",
    "\n",
    "predictions, accuracy"
   ]
  },
  {
   "cell_type": "code",
   "execution_count": null,
   "metadata": {},
   "outputs": [],
   "source": [
    "print(f'prediciyion: {predictions}')\n",
    "print(f'actual value: {y_test}')\n",
    "print(f'accuracy: {accuracy}')"
   ]
  },
  {
   "cell_type": "code",
   "execution_count": null,
   "metadata": {},
   "outputs": [],
   "source": [
    "for i in range(len(predictions)):\n",
    "    print(classes[predictions[i]])"
   ]
  },
  {
   "cell_type": "code",
   "execution_count": null,
   "metadata": {},
   "outputs": [],
   "source": []
  }
 ],
 "metadata": {
  "kernelspec": {
   "display_name": "Python 3",
   "language": "python",
   "name": "python3"
  },
  "language_info": {
   "codemirror_mode": {
    "name": "ipython",
    "version": 3
   },
   "file_extension": ".py",
   "mimetype": "text/x-python",
   "name": "python",
   "nbconvert_exporter": "python",
   "pygments_lexer": "ipython3",
   "version": "3.12.2"
  }
 },
 "nbformat": 4,
 "nbformat_minor": 2
}
