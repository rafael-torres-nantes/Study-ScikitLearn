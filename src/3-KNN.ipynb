{
 "cells": [
  {
   "cell_type": "markdown",
   "metadata": {},
   "source": [
    "# KNN\n",
    "[KNN](https://scikit-learn.org/stable/auto_examples/neighbors/plot_classification.html) significa \"K Nearest Neighbors\" (K Vizinhos Mais Próximos) e é um tipo de algoritmo de aprendizado de máquina usado para __classificação__ e __regressão.__ Ele funciona encontrando os K pontos de dados mais próximos de um novo ponto de dados e usando a classe ou valor desses pontos para classificar ou prever o valor do novo ponto de dados.\n",
    "\n",
    "- O KNN é como um sistema de votação: os K pontos de dados mais próximos de um novo ponto de dados \"votam\" na classe ou valor do novo ponto de dados.\n",
    "- O novo ponto de dados é classificado na classe com o maior número de votos (classificação) ou recebe o valor médio dos votos (regressão).\n",
    "\n",
    "<img src=\"../assets/3-knn.png\"\n",
    "     alt=\"Features and Labels\"\n",
    "     style=\"float: center; margin-right: 10px;\" />\n",
    "\n",
    "Separa os pontos do dataset em 'regiões'.\n",
    "\n",
    "K baixo = smaller dataset (utilizar numero impar)\n",
    "K alto = large dataset\n",
    "\n",
    "weights = 'unirform' da importancia igual a datapoints\n",
    "weights = 'distance' da importancia a datapoints proximos"
   ]
  },
  {
   "cell_type": "markdown",
   "metadata": {},
   "source": [
    "## Como funciona?\n",
    "\n",
    "- __Calcular a distância entre os pontos de dados:__ O KNN usa uma medida de distância, como a distância euclidiana, para calcular a distância entre o novo ponto de dados e todos os outros pontos de dados no conjunto de treinamento.\n",
    "- __Encontrar os K pontos de dados mais próximos:__ O KNN encontra os K pontos de dados com a menor distância do novo ponto de dados.\n",
    "Classificar ou prever o valor do novo ponto de dados:\n",
    "    - __Classificação:__ O KNN conta o número de pontos de dados em cada classe entre os K pontos de dados mais próximos. O novo ponto de dados é classificado na classe com o maior número de pontos.\n",
    "    - __Regressão:__\n",
    "     O KNN calcula a média dos valores dos K pontos de dados mais próximos. O novo ponto de dados recebe esse valor médio."
   ]
  },
  {
   "cell_type": "code",
   "execution_count": null,
   "metadata": {},
   "outputs": [],
   "source": [
    "import numpy as np\n",
    "import pandas as pd\n",
    "from sklearn import neighbors, metrics\n",
    "from sklearn.model_selection import train_test_split\n",
    "from sklearn.preprocessing import LabelEncoder"
   ]
  },
  {
   "cell_type": "code",
   "execution_count": null,
   "metadata": {},
   "outputs": [],
   "source": [
    "data = pd.read_csv('../data/datasetCars/car.data')"
   ]
  },
  {
   "cell_type": "code",
   "execution_count": null,
   "metadata": {},
   "outputs": [],
   "source": [
    "data.head()"
   ]
  },
  {
   "cell_type": "code",
   "execution_count": null,
   "metadata": {},
   "outputs": [],
   "source": [
    "x = data[['buying',\n",
    "          'maint', \n",
    "          'safety'\n",
    "]].values\n",
    "y = data[['class']]"
   ]
  },
  {
   "cell_type": "code",
   "execution_count": null,
   "metadata": {},
   "outputs": [],
   "source": [
    "x, y"
   ]
  },
  {
   "cell_type": "markdown",
   "metadata": {},
   "source": [
    "## Convertendo os Atributos Nominais para Interios"
   ]
  },
  {
   "cell_type": "code",
   "execution_count": null,
   "metadata": {},
   "outputs": [],
   "source": [
    "Le = LabelEncoder()\n",
    "\n",
    "for i in range(len(x[0])):\n",
    "    x[:, i] = Le.fit_transform(x[:, 1])\n",
    "\n",
    "print(x)"
   ]
  },
  {
   "cell_type": "markdown",
   "metadata": {},
   "source": [
    "## Convertendo os Atributos Nominais para Interios"
   ]
  },
  {
   "cell_type": "code",
   "execution_count": null,
   "metadata": {},
   "outputs": [],
   "source": [
    "label_mapping = {\n",
    "    'unacc' : 0,\n",
    "    'acc' : 1,\n",
    "    'good' : 2,\n",
    "    'vgood' : 3\n",
    "}\n",
    "\n",
    "y['class'] = y['class'].map(label_mapping)\n",
    "y = np.array(y)\n",
    "y"
   ]
  },
  {
   "cell_type": "markdown",
   "metadata": {},
   "source": [
    "## Create a Model"
   ]
  },
  {
   "cell_type": "code",
   "execution_count": null,
   "metadata": {},
   "outputs": [],
   "source": [
    "knn = neighbors.KNeighborsClassifier(n_neighbors=25, weights='uniform')"
   ]
  },
  {
   "cell_type": "markdown",
   "metadata": {},
   "source": [
    "Split it in Train set and Test set"
   ]
  },
  {
   "cell_type": "code",
   "execution_count": null,
   "metadata": {},
   "outputs": [],
   "source": [
    "x_train, x_test, y_train, y_test = train_test_split(x, y, test_size=0.2)"
   ]
  },
  {
   "cell_type": "code",
   "execution_count": null,
   "metadata": {},
   "outputs": [],
   "source": [
    "knn.fit(x_train, y_train)"
   ]
  },
  {
   "cell_type": "code",
   "execution_count": null,
   "metadata": {},
   "outputs": [],
   "source": [
    "prediction = knn.predict(x_test)"
   ]
  },
  {
   "cell_type": "code",
   "execution_count": null,
   "metadata": {},
   "outputs": [],
   "source": [
    "accuracy = metrics.accuracy_score(y_test, prediction)\n",
    "print(f'prediciyion: {prediction}')"
   ]
  },
  {
   "cell_type": "code",
   "execution_count": null,
   "metadata": {},
   "outputs": [],
   "source": [
    "print(f'accuracy: {accuracy}')"
   ]
  },
  {
   "cell_type": "code",
   "execution_count": null,
   "metadata": {},
   "outputs": [],
   "source": [
    "index = 100\n",
    "print(f'actual value: {y[index]}')\n",
    "print(f'prediction values: {knn.predict(x)[index]}')"
   ]
  },
  {
   "cell_type": "code",
   "execution_count": null,
   "metadata": {},
   "outputs": [],
   "source": []
  }
 ],
 "metadata": {
  "kernelspec": {
   "display_name": ".venv",
   "language": "python",
   "name": "python3"
  },
  "language_info": {
   "codemirror_mode": {
    "name": "ipython",
    "version": 3
   },
   "file_extension": ".py",
   "mimetype": "text/x-python",
   "name": "python",
   "nbconvert_exporter": "python",
   "pygments_lexer": "ipython3",
   "version": "3.12.2"
  }
 },
 "nbformat": 4,
 "nbformat_minor": 2
}
